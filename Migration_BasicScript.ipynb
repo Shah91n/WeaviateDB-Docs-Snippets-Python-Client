{
 "cells": [
  {
   "cell_type": "code",
   "execution_count": null,
   "metadata": {},
   "outputs": [],
   "source": [
    "# download the weaviate client\n",
    "%pip install -U weaviate-client"
   ]
  },
  {
   "cell_type": "code",
   "execution_count": null,
   "metadata": {},
   "outputs": [],
   "source": [
    "import weaviate\n",
    "import weaviate.classes as wvc\n",
    "from weaviate.collections import Collection\n",
    "from weaviate.client import WeaviateClient\n",
    "\n",
    "client_src = weaviate.connect_to_weaviate_cloud(\n",
    "\t\tcluster_url=\"<SOURCE_CLUSTER_URL>\",\n",
    "\t\tauth_credentials=weaviate.auth.AuthApiKey(\"<KEY>\"))\n",
    "\n",
    "client_tgt = weaviate.connect_to_weaviate_cloud(\n",
    "\t\tcluster_url=\"<TARGET_CLUSTER_URL>\",\n",
    "\t\tauth_credentials=weaviate.auth.AuthApiKey(\"<KEY>\"),\n",
    "        headers={\"X-OpenAI-Api-Key\":\"<KEY>\"})\n",
    "\n",
    "def create_collection(client_in: WeaviateClient, collection_name: str, enable_mt=False):\n",
    "\n",
    "    reviews = client_in.collections.create(\n",
    "        name=collection_name,\n",
    "        multi_tenancy_config=wvc.config.Configure.multi_tenancy(enabled=enable_mt),\n",
    "    )\n",
    "\n",
    "    return reviews\n",
    "\n",
    "reviews_tgt = create_collection(client_tgt, \"papers\", enable_mt=False)\n"
   ]
  },
  {
   "cell_type": "code",
   "execution_count": null,
   "metadata": {},
   "outputs": [],
   "source": [
    "from tqdm import tqdm\n",
    "\n",
    "def migrate_data(collection_src: Collection, collection_tgt: Collection):\n",
    "\n",
    "    with collection_tgt.batch.fixed_size(batch_size=100) as batch:\n",
    "        for q in tqdm(collection_src.iterator(include_vector=True)):\n",
    "            batch.add_object(\n",
    "                properties=q.properties,\n",
    "                vector=q.vector[\"default\"],\n",
    "                uuid=q.uuid\n",
    "            )\n",
    "            # Log the insertion of each object\n",
    "            print(f\"Object with UUID {q.uuid} added.\")\n",
    "    return True\n",
    "\n",
    "\n",
    "reviews_src = client_src.collections.get(\"papers\")\n",
    "reviews_tgt = client_tgt.collections.get(\"papers\")\n",
    "\n",
    "migrate_data(reviews_src, reviews_tgt)\n",
    "\n",
    "client_src.close()\n",
    "client_tgt.close()"
   ]
  }
 ],
 "metadata": {
  "kernelspec": {
   "display_name": ".venv",
   "language": "python",
   "name": "python3"
  },
  "language_info": {
   "codemirror_mode": {
    "name": "ipython",
    "version": 3
   },
   "file_extension": ".py",
   "mimetype": "text/x-python",
   "name": "python",
   "nbconvert_exporter": "python",
   "pygments_lexer": "ipython3",
   "version": "3.13.1"
  }
 },
 "nbformat": 4,
 "nbformat_minor": 2
}
