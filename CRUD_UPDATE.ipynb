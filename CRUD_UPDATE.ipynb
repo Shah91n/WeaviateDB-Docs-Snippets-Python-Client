{
 "cells": [
  {
   "cell_type": "code",
   "execution_count": null,
   "metadata": {},
   "outputs": [],
   "source": [
    "# download the weaviate client\n",
    "%pip install -U weaviate-client"
   ]
  },
  {
   "cell_type": "code",
   "execution_count": null,
   "metadata": {},
   "outputs": [
    {
     "name": "stdout",
     "output_type": "stream",
     "text": [
      "Weaviate client is ready: True\n",
      "Weaviate Client Version: 4.13.2\n",
      "Weaviate Server Version: 1.29.1\n",
      "live: True\n",
      "Connected: True\n"
     ]
    }
   ],
   "source": [
    "import weaviate, os\n",
    "from weaviate.config import AdditionalConfig, Timeout, ConnectionConfig\n",
    "from dotenv import load_dotenv\n",
    "\n",
    "# Load environment variables from .env file\n",
    "load_dotenv()\n",
    "\n",
    "# Retrieve environment variables\n",
    "CLUSTER_URL = os.getenv(\"CLUSTER_URL\")\n",
    "API_KEY = os.getenv(\"API_KEY\")\n",
    "OPENAI_API_KEY = os.getenv(\"OPENAI_API_KEY\")\n",
    "COHERE_API_KEY = os.getenv(\"COHERE_API_KEY\")\n",
    "\n",
    "# Connect to Weaviate\n",
    "client = weaviate.connect_to_weaviate_cloud(\n",
    "\tcluster_url=CLUSTER_URL,\n",
    "\tauth_credentials=weaviate.auth.AuthApiKey(API_KEY),\n",
    "\theaders={\n",
    "\t\t\"X-OpenAI-Api-Key\": OPENAI_API_KEY,\n",
    "\t\t\"X-Cohere-Api-Key\": COHERE_API_KEY\n",
    "\t},\n",
    "\tadditional_config=AdditionalConfig(\n",
    "\t\ttimeout=Timeout(init=60, query=60, insert=120)\n",
    "\t\t)\n",
    ")\n",
    "\n",
    "ready = client.is_ready()\n",
    "server_version = client.get_meta()[\"version\"]\n",
    "client_version = weaviate.__version__\n",
    "\n",
    "live = client.is_live()\n",
    "connected = client.is_connected()\n",
    "\n",
    "print(f\"Weaviate client is ready: {ready}\")\n",
    "print(f\"Weaviate Client Version: {client_version}\")\n",
    "print(f\"Weaviate Server Version: {server_version}\")\n",
    "print(f\"live: {live}\")\n",
    "print(f\"Connected: {connected}\")"
   ]
  },
  {
   "cell_type": "code",
   "execution_count": null,
   "metadata": {},
   "outputs": [],
   "source": [
    "# Do Update Collection and add properties\n",
    "from weaviate.classes.config import Property\n",
    "\n",
    "movies_col= client.collections.get(\"<COLLECTION_NAME>\")\n",
    "movies_col.config.update(\n",
    "    Property(\n",
    "        name=\"<PROPERTY_NAME>\",\n",
    "        description=\"<UPDATE_DESCRIPTION>\"\n",
    "    )\n",
    ")"
   ]
  },
  {
   "cell_type": "code",
   "execution_count": null,
   "metadata": {},
   "outputs": [],
   "source": [
    "# Change configuration\n",
    "from weaviate.classes.config import Reconfigure, ReplicationDeletionStrategy\n",
    "\n",
    "def get_collection_names():\n",
    "    collections = [\n",
    "        '<COL>',\n",
    "        '<COL>',\n",
    "        '<COL>'\n",
    "    ]\n",
    "    return collections\n",
    "\n",
    "# Function to update the configuration for all collections\n",
    "def update_collections_config(client):\n",
    "    collections = get_collection_names()\n",
    "    for collection_name in collections:\n",
    "        try:\n",
    "            # Get the collection by name\n",
    "            collection = client.collections.get(collection_name)\n",
    "            # Update its configuration\n",
    "            collection.config.update(\n",
    "                replication_config=Reconfigure.replication(\n",
    "                    async_enabled=True,\n",
    "                    deletion_strategy=ReplicationDeletionStrategy.DELETE_ON_CONFLICT\n",
    "                )\n",
    "            )\n",
    "            print(f\"Updated configuration for collection: {collection_name}\")\n",
    "        \n",
    "        except Exception as e:\n",
    "            print(f\"Failed to update configuration for collection {collection_name}: {str(e)}\")\n",
    "\n",
    "update_collections_config(client)"
   ]
  },
  {
   "cell_type": "code",
   "execution_count": null,
   "metadata": {},
   "outputs": [],
   "source": [
    "# Update shards\n",
    "coll = client.collections.get(\"<COLLECTION_NAME>\")\n",
    "\n",
    "shards = coll.config.update_shards(\n",
    "    status=\"READY\",\n",
    "    shard_names=[\"<SHARDS>\"]  # The names (List[str]) of the shard to update (or a shard name)\n",
    ")\n",
    "\n",
    "print(shards)"
   ]
  },
  {
   "cell_type": "code",
   "execution_count": null,
   "metadata": {},
   "outputs": [],
   "source": [
    "# Update the vector index configuration for a collection to increase the threshold\n",
    "from weaviate.classes.config import Reconfigure\n",
    "\n",
    "collection = client.collections.get(\"<COLLECTION_NAME>\")\n",
    "result = collection.config.update(\n",
    "    vector_index_config=Reconfigure.VectorIndex.dynamic(\n",
    "        threshold=100000\n",
    "    )\n",
    ")\n",
    "print(result)"
   ]
  },
  {
   "cell_type": "code",
   "execution_count": null,
   "metadata": {},
   "outputs": [],
   "source": [
    "# Update the replication factor for a collection\n",
    "from weaviate.classes.config import Reconfigure\n",
    "\n",
    "# Get the collection by name\n",
    "collection = client.collections.get(\"<COLLECTION_NAME>\")\n",
    "# Update its configuration\n",
    "collection.config.update(\n",
    "    replication_config=Reconfigure.replication(\n",
    "        factor=5\n",
    "    )\n",
    ")\n",
    "print(f\"Updated configuration for collection\")"
   ]
  },
  {
   "cell_type": "code",
   "execution_count": null,
   "metadata": {},
   "outputs": [],
   "source": [
    "from weaviate.classes.config import Reconfigure\n",
    "\n",
    "collection = client.collections.get(\"<COLLECTION_NAME>\")\n",
    "result = collection.config.update(\n",
    "    vector_index_config=Reconfigure.VectorIndex.hnsw(\n",
    "        ef=1000,\n",
    "        flat_search_cutoff=300000\n",
    "    )\n",
    ")\n",
    "\n",
    "print(result)"
   ]
  }
 ],
 "metadata": {
  "kernelspec": {
   "display_name": ".venv",
   "language": "python",
   "name": "python3"
  },
  "language_info": {
   "codemirror_mode": {
    "name": "ipython",
    "version": 3
   },
   "file_extension": ".py",
   "mimetype": "text/x-python",
   "name": "python",
   "nbconvert_exporter": "python",
   "pygments_lexer": "ipython3",
   "version": "3.13.3"
  }
 },
 "nbformat": 4,
 "nbformat_minor": 2
}
