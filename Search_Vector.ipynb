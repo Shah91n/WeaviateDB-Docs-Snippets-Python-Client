{
 "cells": [
  {
   "cell_type": "code",
   "execution_count": null,
   "metadata": {},
   "outputs": [],
   "source": [
    "# download the weaviate client\n",
    "%pip install -U weaviate-client"
   ]
  },
  {
   "cell_type": "code",
   "execution_count": null,
   "metadata": {},
   "outputs": [],
   "source": [
    "import weaviate, os\n",
    "from weaviate.config import AdditionalConfig, Timeout\n",
    "from dotenv import load_dotenv\n",
    "\n",
    "# Load environment variables from .env file\n",
    "load_dotenv()\n",
    "\n",
    "# Retrieve environment variables\n",
    "CLUSTER_URL = os.getenv(\"CLUSTER_URL\")\n",
    "API_KEY = os.getenv(\"API_KEY\")\n",
    "OPENAI_API_KEY = os.getenv(\"OPENAI_API_KEY\")\n",
    "COHERE_API_KEY = os.getenv(\"COHERE_API_KEY\")\n",
    "\n",
    "# Connect to Weaviate\n",
    "client = weaviate.connect_to_weaviate_cloud(\n",
    "\tcluster_url=CLUSTER_URL,\n",
    "\tauth_credentials=weaviate.auth.AuthApiKey(API_KEY),\n",
    "\theaders={\n",
    "\t\t\"X-OpenAI-Api-Key\": OPENAI_API_KEY,\n",
    "\t\t\"X-Cohere-Api-Key\": COHERE_API_KEY\n",
    "\t},\n",
    "\tadditional_config=AdditionalConfig(\n",
    "\t\ttimeout=Timeout(init=30, query=60, insert=120)\n",
    "\t)\n",
    ")\n",
    "\n",
    "ready = client.is_ready()\n",
    "server_version = client.get_meta()[\"version\"]\n",
    "client_version = weaviate.__version__\n",
    "live = client.is_live()\n",
    "connected = client.is_connected()\n",
    "\n",
    "print(f\"Weaviate Ready: {ready}\")\n",
    "print(f\"Weaviate Client Version: {client_version}\")\n",
    "print(f\"Weaviate Server Version: {server_version}\")\n",
    "print(f\"Weaviate Live: {client.is_live()}\")\n",
    "print(f\"Client Connected: {connected}\")\n"
   ]
  },
  {
   "cell_type": "code",
   "execution_count": null,
   "metadata": {},
   "outputs": [],
   "source": [
    "import weaviate.classes as wvc\n",
    "\n",
    "# Define your query vector (the same vector from your GraphQL query)\n",
    "query_vector = [0.016412651,0.021986322,-0.051971596,-0.0012358609,-0.08584271,-0.05996677,-0.012721474,0.008701277,-0.045559797,-0.016672999,-0.02336215,-0.058082417,-0.059170872,0.025552312,-0.04738536,0.08214475,-0.043322884,0.07902905,0.055974074,-0.008570184,0.016606364,0.028734095,0.012063055,0.056657333,-0.06770994,0.08211152,0.04234469,0.019760901,-0.06057141,0.08479452,-0.08824751,-0.053093635,0.0132842045,-0.001103876,-0.016428364,-0.06801955,-0.030143607,-0.06281187,0.023300776,0.054265194,0.036074094,0.0365296,-0.0068226005,-0.060644034,-0.010127672,-0.02142619,-0.030839209,0.05222812,-0.064158484,-0.06365503,0.013945378,0.026777789,-0.042331234,-0.0369355,0.07665817,-0.035235688,0.022947337,0.033143114,0.041449428,0.06433949,0.022848427,-0.029705362,0.07067469,-0.05420667,-0.079580225,-0.0055020326,-0.035041507,-0.025289332,0.0039554583,0.024104271,0.055109482,-0.0389826,-0.021048412,0.001725746,-0.068978295,0.030871809,-0.06683659,0.042271677,0.071138225,-0.046928268,-0.024718044,-0.009977992,-0.0020753923,-0.028136343,0.0393048,-0.04773576,0.06580441,-0.07437393,0.044298097,0.019187804,0.06843181,0.04434268,-0.0004829389,0.03294588,-0.087169714,-0.050130233,-0.023523694,-0.045064323,0.052975796,-0.07233488,-0.0101977745,-0.027444785,-0.074229494,-0.045746256,-0.08393912,0.034400877,0.010352848,0.013998935,0.0099313315,0.06638751,0.0025993565,-0.07374419,-0.019704118,0.0048897937,-0.010519423,-0.10662507,-0.063516244,0.055007398,-0.053339705,0.0068669943,-0.0034038355,0.04800264,-0.03988844,0.0059400797,-0.052396428,0.0520489,0.049024288,0.0022439647]\n",
    "\n",
    "# Get the collection\n",
    "collection = client.collections.get(\"<COLLECTION_NAME>\")\n",
    "\n",
    "# Perform the near vector query\n",
    "response = collection.query.near_vector(\n",
    "    near_vector=query_vector,\n",
    "    limit=50,\n",
    "    return_properties=[\"<PROPERTY_NAME>\"],\n",
    "    return_metadata=wvc.query.MetadataQuery(distance=True)\n",
    ")\n",
    "\n",
    "# Print the results\n",
    "for obj in response.objects:\n",
    "    print(f\"Embedding ID: {obj.properties['<PROPERTY_NAME>']}, Distance: {obj.metadata.distance}\")"
   ]
  }
 ],
 "metadata": {
  "kernelspec": {
   "display_name": ".venv",
   "language": "python",
   "name": "python3"
  },
  "language_info": {
   "codemirror_mode": {
    "name": "ipython",
    "version": 3
   },
   "file_extension": ".py",
   "mimetype": "text/x-python",
   "name": "python",
   "nbconvert_exporter": "python",
   "pygments_lexer": "ipython3",
   "version": "3.13.4"
  }
 },
 "nbformat": 4,
 "nbformat_minor": 2
}
