{
 "cells": [
  {
   "cell_type": "code",
   "execution_count": null,
   "metadata": {},
   "outputs": [],
   "source": [
    "# Slicing Lists -> list[start:end]\n",
    "\n",
    "letters = ['a', 'b', 'c', 'd', 'e', 'f', 'g', 'h', 'i', 'j']\n",
    "endStart = letters[2:5] # Start from index 2 and end at index 5 (not included)\n",
    "print(endStart)\n",
    "removeFirstFive = letters[5:] # Remove the first five elements\n",
    "print(removeFirstFive)\n",
    "removeAfterThree = letters[:3] # Keep only the first three elements\n",
    "print(removeAfterThree)\n",
    "removeFirstAndLast = letters[1:-1] # Remove the first and last elements\n",
    "print(removeFirstAndLast)\n",
    "copyList = letters[:] # Create a new list in memory with the same values\n",
    "print(copyList)\n",
    "skip = letters[::3] # Skip every 3rd element\n",
    "print(skip)\n",
    "reverseList = letters[::-1] # Reverse the list\n",
    "print(reverseList)"
   ]
  },
  {
   "cell_type": "code",
   "execution_count": null,
   "metadata": {},
   "outputs": [],
   "source": [
    "# Finding in Lists\n",
    "names = ['John', 'Doe', 'Jane', 'Doe']\n",
    "result = 'John' in names\n",
    "print(result)\n",
    "result = 'Smith' in names\n",
    "print(result)"
   ]
  },
  {
   "cell_type": "code",
   "execution_count": null,
   "metadata": {},
   "outputs": [],
   "source": [
    "# Nested Lists 2D & 3D\n",
    "students_2D = [['John', 'Doe'], ['Mohamed', 'Shahin'], ['Pat', 'Charles']]\n",
    "result = students_2D[2][1]\n",
    "print(result)\n",
    "\n",
    "students_3D = [\n",
    "    [['John', 'Doe'], ['Jane', 'Doe'], ['Alice', 'Smith'], ['Bob', 'Brown'], ['Charlie', 'Davis'], ['David', 'Evans'], ['Eve', 'Foster'], ['Frank', 'Green'], ['Grace', 'Hill'], ['Hank', 'Ivy']],\n",
    "    [['Ivy', 'Jones'], ['Jack', 'King'], ['Kara', 'Lee'], ['Liam', 'Miller'], ['Mia', 'Nelson'], ['Noah', 'Owens'], ['Olivia', 'Parker'], ['Paul', 'Quinn'], ['Quincy', 'Reed'], ['Rachel', 'Stone']]\n",
    "]\n",
    "result = students_3D[1][2][0]\n",
    "print(result)"
   ]
  },
  {
   "cell_type": "code",
   "execution_count": null,
   "metadata": {},
   "outputs": [],
   "source": [
    "# Generate a unique ID\n",
    "import uuid\n",
    "tenant = str(uuid.uuid4())[:8]\n",
    "print(tenant)\n",
    "if not tenant:\n",
    "    print(\"No tenant ID generated\")\n",
    "else:\n",
    "    print(\"Tenant ID generated: \" + tenant)"
   ]
  },
  {
   "cell_type": "code",
   "execution_count": null,
   "metadata": {},
   "outputs": [],
   "source": [
    "# Dictionaires (Keys and Values)\n",
    "person = {\n",
    "    \"name\": \"John\",\n",
    "    \"age\": 30,\n",
    "    \"city\": \"New York\"\n",
    "}\n",
    "print(person[\"name\"])\n",
    "print(person.get(\"age\"))\n",
    "print(person.keys())\n",
    "print(person.values())\n",
    "\n",
    "for key in person.keys():\n",
    "    print(key + \" _ \" + str(person[key]))\n",
    "\n",
    "print(person.items())"
   ]
  },
  {
   "cell_type": "code",
   "execution_count": null,
   "metadata": {},
   "outputs": [],
   "source": [
    "# Modueles and Packages\n",
    "from platform import version\n",
    "print(version())"
   ]
  }
 ],
 "metadata": {
  "kernelspec": {
   "display_name": ".venv",
   "language": "python",
   "name": "python3"
  },
  "language_info": {
   "codemirror_mode": {
    "name": "ipython",
    "version": 3
   },
   "file_extension": ".py",
   "mimetype": "text/x-python",
   "name": "python",
   "nbconvert_exporter": "python",
   "pygments_lexer": "ipython3",
   "version": "3.13.1"
  }
 },
 "nbformat": 4,
 "nbformat_minor": 2
}
