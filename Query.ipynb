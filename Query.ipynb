{
 "cells": [
  {
   "cell_type": "code",
   "execution_count": null,
   "metadata": {},
   "outputs": [],
   "source": [
    "# download the weaviate client\n",
    "%pip install -U weaviate-client"
   ]
  },
  {
   "cell_type": "code",
   "execution_count": null,
   "metadata": {},
   "outputs": [],
   "source": [
    "import weaviate, os\n",
    "from weaviate.config import AdditionalConfig, Timeout\n",
    "from dotenv import load_dotenv\n",
    "\n",
    "# Load environment variables from .env file\n",
    "load_dotenv()\n",
    "\n",
    "# Retrieve environment variables\n",
    "CLUSTER_URL = os.getenv(\"CLUSTER_URL\")\n",
    "API_KEY = os.getenv(\"API_KEY\")\n",
    "OPENAI_API_KEY = os.getenv(\"OPENAI_API_KEY\")\n",
    "COHERE_API_KEY = os.getenv(\"COHERE_API_KEY\")\n",
    "\n",
    "# Connect to Weaviate\n",
    "client = weaviate.connect_to_weaviate_cloud(\n",
    "\tcluster_url=CLUSTER_URL,\n",
    "\tauth_credentials=weaviate.auth.AuthApiKey(API_KEY),\n",
    "\theaders={\n",
    "\t\t\"X-OpenAI-Api-Key\": OPENAI_API_KEY,\n",
    "\t\t\"X-Cohere-Api-Key\": COHERE_API_KEY\n",
    "\t},\n",
    "\tadditional_config=AdditionalConfig(\n",
    "\t\ttimeout=Timeout(init=30, query=60, insert=120)\n",
    "\t\t\t)\n",
    ")\n",
    "\n",
    "ready = client.is_ready()\n",
    "server_version = client.get_meta()[\"version\"]\n",
    "client_version = weaviate.__version__\n",
    "\n",
    "live = client.is_live()\n",
    "connected = client.is_connected()\n",
    "\n",
    "print(f\"Weaviate client is ready: {ready}\")\n",
    "print(f\"Weaviate Client Version: {client_version}\")\n",
    "print(f\"Weaviate Server Version: {server_version}\")\n",
    "print(f\"live: {live}\")\n",
    "print(f\"Connected: {connected}\")"
   ]
  },
  {
   "cell_type": "code",
   "execution_count": null,
   "metadata": {},
   "outputs": [
    {
     "name": "stdout",
     "output_type": "stream",
     "text": [
      "Collection exists\n"
     ]
    }
   ],
   "source": [
    "# Existing of a collection\n",
    "col = client.collections.get(\"<COLLECTION_NAME>\")\n",
    "if col.exists():\n",
    "    print(\"Collection exists\")\n",
    "else:\n",
    "    print(\"Collection does not exist\")"
   ]
  },
  {
   "cell_type": "code",
   "execution_count": null,
   "metadata": {},
   "outputs": [],
   "source": [
    "# Query an object & its dimensionality\n",
    "items = client.collections.get(\"<COLLECTION_NAME>\")\n",
    "\n",
    "data_object = items.query.fetch_object_by_id(\n",
    "    uuid=\"UUID\", \n",
    "    include_vector=True  \n",
    ")\n",
    "\n",
    "default_vector = data_object.vector[\"default\"]\n",
    "dimensionality = len(default_vector)\n",
    "\n",
    "print(f\"The default vector has {dimensionality} dimensions.\")"
   ]
  },
  {
   "cell_type": "code",
   "execution_count": null,
   "metadata": {},
   "outputs": [],
   "source": [
    "# Query & Filter by time\n",
    "from datetime import datetime\n",
    "from weaviate.classes.query import Filter\n",
    "\n",
    "collection = client.collections.get(\"<COLLECTION_NAME>\")\n",
    "\n",
    "filter_time = datetime(2024, 1, 1).isoformat()\n",
    "print(filter_time)\n",
    "res = collection.query.fetch_objects(\n",
    "    filters=Filter.by_creation_time().greater_than(filter_time)\n",
    ")\n",
    "print(res)"
   ]
  },
  {
   "cell_type": "code",
   "execution_count": null,
   "metadata": {},
   "outputs": [],
   "source": [
    "# Sorting -> works only with fetch_objects (Similarity searches do not support sorting as they are based sorted by similarity)\n",
    "from weaviate.classes.query import Sort\n",
    "\n",
    "movies_col= client.collections.get(\"<COLLECTION_NAME>\")\n",
    "\n",
    "response = movies_col.query.fetch_objects(\n",
    "    limit=9,\n",
    "    sort=Sort.by_property(name=\"<PROP_NAME>\", ascending=False)\n",
    ")\n",
    "\n",
    "for o in response.objects:\n",
    "    print(o.properties)"
   ]
  }
 ],
 "metadata": {
  "kernelspec": {
   "display_name": ".venv",
   "language": "python",
   "name": "python3"
  },
  "language_info": {
   "codemirror_mode": {
    "name": "ipython",
    "version": 3
   },
   "file_extension": ".py",
   "mimetype": "text/x-python",
   "name": "python",
   "nbconvert_exporter": "python",
   "pygments_lexer": "ipython3",
   "version": "3.13.1"
  }
 },
 "nbformat": 4,
 "nbformat_minor": 2
}
