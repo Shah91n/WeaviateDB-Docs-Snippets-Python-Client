{
 "cells": [
  {
   "cell_type": "code",
   "execution_count": null,
   "metadata": {},
   "outputs": [],
   "source": [
    "# download the weaviate client\n",
    "%pip install -U weaviate-client"
   ]
  },
  {
   "cell_type": "code",
   "execution_count": null,
   "metadata": {},
   "outputs": [],
   "source": [
    "import weaviate, os\n",
    "from weaviate.config import AdditionalConfig, Timeout\n",
    "from dotenv import load_dotenv\n",
    "\n",
    "# Load environment variables from .env file\n",
    "load_dotenv()\n",
    "\n",
    "# Retrieve environment variables\n",
    "CLUSTER_URL = os.getenv(\"CLUSTER_URL\")\n",
    "API_KEY = os.getenv(\"API_KEY\")\n",
    "OPENAI_API_KEY = os.getenv(\"OPENAI_API_KEY\")\n",
    "COHERE_API_KEY = os.getenv(\"COHERE_API_KEY\")\n",
    "\n",
    "# Connect to Weaviate\n",
    "client = weaviate.connect_to_weaviate_cloud(\n",
    "\tcluster_url=CLUSTER_URL,\n",
    "\tauth_credentials=weaviate.auth.AuthApiKey(API_KEY),\n",
    "\theaders={\n",
    "\t\t\"X-OpenAI-Api-Key\": OPENAI_API_KEY,\n",
    "\t\t\"X-Cohere-Api-Key\": COHERE_API_KEY\n",
    "\t},\n",
    "\tadditional_config=AdditionalConfig(\n",
    "\t\ttimeout=Timeout(init=30, query=60, insert=120)\n",
    "\t)\n",
    ")\n",
    "\n",
    "ready = client.is_ready()\n",
    "server_version = client.get_meta()[\"version\"]\n",
    "client_version = weaviate.__version__\n",
    "live = client.is_live()\n",
    "connected = client.is_connected()\n",
    "\n",
    "print(f\"Weaviate Ready: {ready}\")\n",
    "print(f\"Weaviate Client Version: {client_version}\")\n",
    "print(f\"Weaviate Server Version: {server_version}\")\n",
    "print(f\"Weaviate Live: {client.is_live()}\")\n",
    "print(f\"Client Connected: {connected}\")\n"
   ]
  },
  {
   "cell_type": "code",
   "execution_count": null,
   "metadata": {},
   "outputs": [],
   "source": [
    "# Existing of a collection\n",
    "col = client.collections.get(\"<COLLECTION_NAME>\")\n",
    "if col.exists():\n",
    "    print(\"Collection exists\")\n",
    "else:\n",
    "    print(\"Collection does not exist\")"
   ]
  },
  {
   "cell_type": "code",
   "execution_count": null,
   "metadata": {},
   "outputs": [],
   "source": [
    "# Query an object & its dimensionality\n",
    "coll = client.collections.get(\"<COLLECTION_NAME>\")\n",
    "\n",
    "some_data = coll.query.fetch_objects(include_vector=True, limit=1)\n",
    "default_vector = some_data.objects[0].vector[\"default\"]\n",
    "dimensionality = len(default_vector)\n",
    "\n",
    "print(f\"The default vector has {dimensionality} dimensions.\")"
   ]
  },
  {
   "cell_type": "code",
   "execution_count": null,
   "metadata": {},
   "outputs": [],
   "source": [
    "# Query an object & its dimensionality for a Tenant\n",
    "coll = client.collections.get(\"<COLLECTION_NAME>\")\n",
    "tenants = coll.tenants.get()\n",
    "\n",
    "# Extract the first tenant's name\n",
    "first_tenant = list(tenants.values())[0]  # Get the first Tenant object\n",
    "tenant_name = first_tenant.name  # Extract the tenant name\n",
    "\n",
    "# Get the collection specific to this tenant\n",
    "tenant_coll = coll.with_tenant(tenant_name)\n",
    "\n",
    "# Fetch an object for the specific tenant\n",
    "tenant_object = tenant_coll.query.fetch_objects(include_vector=True, limit=1)\n",
    "\n",
    "# Extract and compute the vector dimensionality\n",
    "default_vector = tenant_object.objects[0].vector[\"default\"]\n",
    "dimensionality = len(default_vector)\n",
    "\n",
    "print(f\"The default vector has {dimensionality} dimensions for tenant '{tenant_name}'.\")"
   ]
  },
  {
   "cell_type": "code",
   "execution_count": null,
   "metadata": {},
   "outputs": [],
   "source": [
    "# Query & Filter by time\n",
    "from datetime import datetime\n",
    "from weaviate.classes.query import Filter\n",
    "\n",
    "collection = client.collections.get(\"<COLLECTION_NAME>\")\n",
    "\n",
    "filter_time = datetime(2024, 1, 1).isoformat()\n",
    "print(filter_time)\n",
    "res = collection.query.fetch_objects(\n",
    "    filters=Filter.by_creation_time().greater_than(filter_time)\n",
    ")\n",
    "print(res)"
   ]
  },
  {
   "cell_type": "code",
   "execution_count": null,
   "metadata": {},
   "outputs": [],
   "source": [
    "# Sorting -> works only with fetch_objects (Similarity searches do not support sorting as they are based sorted by similarity)\n",
    "from weaviate.classes.query import Sort\n",
    "\n",
    "movies_col= client.collections.get(\"<COLLECTION_NAME>\")\n",
    "\n",
    "response = movies_col.query.fetch_objects(\n",
    "    limit=9,\n",
    "    sort=Sort.by_property(name=\"<PROP_NAME>\", ascending=False)\n",
    ")\n",
    "\n",
    "for o in response.objects:\n",
    "    print(o.properties)"
   ]
  },
  {
   "cell_type": "code",
   "execution_count": null,
   "metadata": {},
   "outputs": [],
   "source": [
    "from weaviate.classes.query import MetadataQuery\n",
    "# **** Querying ****\n",
    "def query_vector_with_fallback(tenant_collection, near_vector, limit, tenant_name,\n",
    "                               filters=None, include_vector=False,\n",
    "                               return_metadata=None, max_distance=None):\n",
    "    # Set default metadata safely\n",
    "    if return_metadata is None:\n",
    "        return_metadata = MetadataQuery(distance=True)\n",
    "\n",
    "    # Try with original limit\n",
    "    query_args = {\n",
    "        \"near_vector\": near_vector,\n",
    "        \"limit\": limit,\n",
    "        \"return_metadata\": return_metadata,\n",
    "        \"include_vector\": include_vector\n",
    "    }\n",
    "\n",
    "    if filters:\n",
    "        query_args[\"filters\"] = filters\n",
    "\n",
    "    if max_distance is not None:\n",
    "        query_args[\"distance\"] = max_distance\n",
    "\n",
    "    try:\n",
    "        import time\n",
    "        start_time = time.time()\n",
    "        query_result = tenant_collection.query.near_vector(**query_args)\n",
    "        end_time = time.time()\n",
    "        print(f\"Vector query took {(end_time - start_time) * 1000:.2f}ms\")\n",
    "        return query_result\n",
    "    except Exception as e:\n",
    "        print(f\"Error in vector query with limit {limit}, falling back to smaller batches: {e}\")\n",
    "\n"
   ]
  }
 ],
 "metadata": {
  "kernelspec": {
   "display_name": ".venv",
   "language": "python",
   "name": "python3"
  },
  "language_info": {
   "codemirror_mode": {
    "name": "ipython",
    "version": 3
   },
   "file_extension": ".py",
   "mimetype": "text/x-python",
   "name": "python",
   "nbconvert_exporter": "python",
   "pygments_lexer": "ipython3",
   "version": "3.13.4"
  }
 },
 "nbformat": 4,
 "nbformat_minor": 2
}
