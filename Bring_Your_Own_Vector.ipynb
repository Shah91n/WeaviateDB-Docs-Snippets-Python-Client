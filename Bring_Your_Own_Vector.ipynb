{
 "cells": [
  {
   "cell_type": "code",
   "execution_count": null,
   "metadata": {},
   "outputs": [],
   "source": [
    "# download the weaviate client\n",
    "%pip install -U weaviate-client"
   ]
  },
  {
   "cell_type": "code",
   "execution_count": null,
   "metadata": {},
   "outputs": [],
   "source": [
    "import weaviate, os\n",
    "from weaviate.config import AdditionalConfig, Timeout\n",
    "from dotenv import load_dotenv\n",
    "\n",
    "# Load environment variables from .env file\n",
    "load_dotenv()\n",
    "\n",
    "# Retrieve environment variables\n",
    "CLUSTER_URL = os.getenv(\"CLUSTER_URL\")\n",
    "API_KEY = os.getenv(\"API_KEY\")\n",
    "OPENAI_API_KEY = os.getenv(\"OPENAI_API_KEY\")\n",
    "COHERE_API_KEY = os.getenv(\"COHERE_API_KEY\")\n",
    "\n",
    "# Connect to Weaviate\n",
    "try:\n",
    "    client = weaviate.connect_to_weaviate_cloud(\n",
    "        cluster_url=CLUSTER_URL,\n",
    "        auth_credentials=weaviate.auth.AuthApiKey(API_KEY),\n",
    "        headers={\n",
    "            \"X-OpenAI-Api-Key\": OPENAI_API_KEY,\n",
    "            \"X-Cohere-Api-Key\": COHERE_API_KEY\n",
    "        },\n",
    "        additional_config=AdditionalConfig(\n",
    "            timeout=Timeout(init=60, query=240, insert=480)\n",
    "        )\n",
    "    )\n",
    "\n",
    "    ready = client.is_ready()\n",
    "    server_version = client.get_meta()[\"version\"]\n",
    "    client_version = weaviate.__version__\n",
    "    live = client.is_live()\n",
    "    connected = client.is_connected()\n",
    "\n",
    "    print(f\"Weaviate Ready: {ready}\")\n",
    "    print(f\"Weaviate Client Version: {client_version}\")\n",
    "    print(f\"Weaviate Server Version: {server_version}\")\n",
    "    print(f\"Weaviate Live: {client.is_live()}\")\n",
    "    print(f\"Client Connected: {connected}\")\n",
    "\n",
    "except Exception as e:\n",
    "    print(f\"Error connecting to Weaviate: {e}\")\n"
   ]
  },
  {
   "cell_type": "code",
   "execution_count": null,
   "metadata": {},
   "outputs": [
    {
     "data": {
      "text/plain": [
       "<weaviate.collections.collection.sync.Collection at 0x11b58f750>"
      ]
     },
     "execution_count": 4,
     "metadata": {},
     "output_type": "execute_result"
    }
   ],
   "source": [
    "from weaviate.classes.config import Configure\n",
    "from weaviate.classes.config import Property, DataType, Tokenization\n",
    "\n",
    "client.collections.create(\n",
    "    name=\"bringvectorssexamlpe\",\n",
    "    vectorizer_config=Configure.Vectorizer.none(),\n",
    "    inverted_index_config=Configure.inverted_index(\n",
    "        index_timestamps = True\n",
    "    ),\n",
    "    replication_config=Configure.replication(factor=3, async_enabled=True),\n",
    "    properties=[\n",
    "        Property(\n",
    "            name=\"title\",\n",
    "            data_type=DataType.TEXT,\n",
    "            tokenization=Tokenization.WORD,\n",
    "            skip_vectorization=False\n",
    "        ),\n",
    "        Property(\n",
    "            name=\"body\",\n",
    "            data_type=DataType.TEXT,\n",
    "            tokenization=Tokenization.FIELD,\n",
    "            skip_vectorization=False\n",
    "        )\n",
    "    ]\n",
    ")"
   ]
  },
  {
   "cell_type": "code",
   "execution_count": null,
   "metadata": {},
   "outputs": [
    {
     "name": "stdout",
     "output_type": "stream",
     "text": [
      "fb7cc5a5-da08-4b65-b60f-253e6bf30c6c\n"
     ]
    }
   ],
   "source": [
    "# Create Objects with some vectors\n",
    "col = client.collections.get(\"bringvectorssexamlpe\")\n",
    "uuid = col.data.insert(\n",
    "    properties={\n",
    "        \"title\": \"This vector DB is OSS and supports automatic property type inference on import\",\n",
    "        \"body\": \"Weaviate\",\n",
    "    },\n",
    "    vector=[0.12345] * 1536\n",
    ")\n",
    "print(uuid)\n",
    "\n"
   ]
  },
  {
   "cell_type": "code",
   "execution_count": null,
   "metadata": {},
   "outputs": [],
   "source": [
    "# Do some near vector search\n",
    "response = col.query.near_vector(\n",
    "    near_vector=[0.12345] * 1536,\n",
    "    limit=2,\n",
    ")"
   ]
  }
 ],
 "metadata": {
  "kernelspec": {
   "display_name": ".venv",
   "language": "python",
   "name": "python3"
  },
  "language_info": {
   "codemirror_mode": {
    "name": "ipython",
    "version": 3
   },
   "file_extension": ".py",
   "mimetype": "text/x-python",
   "name": "python",
   "nbconvert_exporter": "python",
   "pygments_lexer": "ipython3",
   "version": "3.13.3"
  }
 },
 "nbformat": 4,
 "nbformat_minor": 2
}
