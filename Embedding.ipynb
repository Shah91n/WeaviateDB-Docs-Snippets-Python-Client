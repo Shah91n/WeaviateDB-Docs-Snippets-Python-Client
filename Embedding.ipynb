{
 "cells": [
  {
   "cell_type": "code",
   "execution_count": null,
   "metadata": {},
   "outputs": [],
   "source": [
    "# download the weaviate client\n",
    "%pip install -U weaviate-client"
   ]
  },
  {
   "cell_type": "code",
   "execution_count": null,
   "metadata": {},
   "outputs": [],
   "source": [
    "import weaviate, os\n",
    "from weaviate.config import AdditionalConfig, Timeout\n",
    "from dotenv import load_dotenv\n",
    "\n",
    "# Load environment variables from .env file\n",
    "load_dotenv()\n",
    "\n",
    "# Retrieve environment variables\n",
    "CLUSTER_URL = os.getenv(\"CLUSTER_URL\")\n",
    "API_KEY = os.getenv(\"API_KEY\")\n",
    "OPENAI_API_KEY = os.getenv(\"OPENAI_API_KEY\")\n",
    "COHERE_API_KEY = os.getenv(\"COHERE_API_KEY\")\n",
    "GOOGLE_API_KEY = os.getenv(\"GOOGLE_API_KEY\")\n",
    "\n",
    "# Connect to Weaviate\n",
    "client = weaviate.connect_to_weaviate_cloud(\n",
    "\tcluster_url=CLUSTER_URL,\n",
    "\tauth_credentials=weaviate.auth.AuthApiKey(API_KEY),\n",
    "\theaders={\n",
    "\t\t\"X-OpenAI-Api-Key\": OPENAI_API_KEY,\n",
    "\t\t\"X-Cohere-Api-Key\": COHERE_API_KEY,\n",
    "        \"X-Goog-Api-Key\": GOOGLE_API_KEY\n",
    "\t},\n",
    "\tadditional_config=AdditionalConfig(\n",
    "\t\ttimeout=Timeout(init=30, query=60, insert=120)\n",
    "\t)\n",
    ")\n",
    "\n",
    "ready = client.is_ready()\n",
    "server_version = client.get_meta()[\"version\"]\n",
    "client_version = weaviate.__version__\n",
    "live = client.is_live()\n",
    "connected = client.is_connected()\n",
    "\n",
    "print(f\"Weaviate Ready: {ready}\")\n",
    "print(f\"Weaviate Client Version: {client_version}\")\n",
    "print(f\"Weaviate Server Version: {server_version}\")\n",
    "print(f\"Weaviate Live: {client.is_live()}\")\n",
    "print(f\"Client Connected: {connected}\")"
   ]
  },
  {
   "cell_type": "code",
   "execution_count": null,
   "metadata": {},
   "outputs": [],
   "source": [
    "from weaviate.classes.config import Configure\n",
    "from weaviate.classes.config import Property, DataType, Tokenization\n",
    "\n",
    "client.collections.create(\n",
    "    name=\"<COLLECTION_NAME>\",\n",
    "    # Use text2vec-weaviate vectorizer https://weaviate.io/developers/wcs/embeddings/models#how-to-choose-the-right-model\n",
    "    vectorizer_config=Configure.Vectorizer.text2vec_weaviate(\n",
    "        model=\"Snowflake/snowflake-arctic-embed-m-v1.5\",\n",
    "        vectorize_collection_name=False\n",
    "    ), \n",
    "    inverted_index_config=Configure.inverted_index(\n",
    "        index_timestamps = True\n",
    "    ),\n",
    "    properties=[\n",
    "        Property(\n",
    "            name=\"<PROPERTY_NAME>\",\n",
    "            data_type=DataType.TEXT,\n",
    "            tokenization=Tokenization.WORD,\n",
    "        ),\n",
    "        Property(\n",
    "            name=\"<PROPERTY_NAME>\",\n",
    "            data_type=DataType.TEXT,\n",
    "            tokenization=Tokenization.FIELD,\n",
    "        )\n",
    "    ]\n",
    ")"
   ]
  },
  {
   "cell_type": "code",
   "execution_count": null,
   "metadata": {},
   "outputs": [],
   "source": [
    "# Insert some data for a collection\n",
    "data = [\n",
    "    {\n",
    "        \"Trigger\": \"I want to buy a new car\",\n",
    "        \"Content\": \"I am looking for a new car, preferably a Tesla.\"\n",
    "    },\n",
    "    {\n",
    "        \"Trigger\": \"I want to buy a new house\",\n",
    "        \"Content\": \"I am looking for a new house, preferably in the city.\"\n",
    "    },\n",
    "    {\n",
    "        \"Trigger\": \"I want to buy a new phone\",\n",
    "        \"Content\": \"I am looking for a new phone, preferably an iPhone.\"\n",
    "    }\n",
    "]\n",
    "\n",
    "coll = client.collections.get(\"<COLLECTION_NAME>\")\n",
    "coll.data.insert_many(data)"
   ]
  }
 ],
 "metadata": {
  "kernelspec": {
   "display_name": ".venv",
   "language": "python",
   "name": "python3"
  },
  "language_info": {
   "codemirror_mode": {
    "name": "ipython",
    "version": 3
   },
   "file_extension": ".py",
   "mimetype": "text/x-python",
   "name": "python",
   "nbconvert_exporter": "python",
   "pygments_lexer": "ipython3",
   "version": "3.13.2"
  }
 },
 "nbformat": 4,
 "nbformat_minor": 2
}
