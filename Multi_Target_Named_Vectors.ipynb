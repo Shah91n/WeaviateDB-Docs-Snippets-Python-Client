{
 "cells": [
  {
   "cell_type": "code",
   "execution_count": null,
   "metadata": {},
   "outputs": [],
   "source": [
    "# download the weaviate client\n",
    "%pip install -U weaviate-client"
   ]
  },
  {
   "cell_type": "code",
   "execution_count": null,
   "metadata": {},
   "outputs": [],
   "source": [
    "import weaviate, os\n",
    "from weaviate.config import AdditionalConfig, Timeout\n",
    "from dotenv import load_dotenv\n",
    "\n",
    "# Load environment variables from .env file\n",
    "load_dotenv()\n",
    "\n",
    "# Retrieve environment variables\n",
    "CLUSTER_URL = os.getenv(\"CLUSTER_URL\")\n",
    "API_KEY = os.getenv(\"API_KEY\")\n",
    "OPENAI_API_KEY = os.getenv(\"OPENAI_API_KEY\")\n",
    "COHERE_API_KEY = os.getenv(\"COHERE_API_KEY\")\n",
    "\n",
    "# Connect to Weaviate\n",
    "client = weaviate.connect_to_weaviate_cloud(\n",
    "\tcluster_url=CLUSTER_URL,\n",
    "\tauth_credentials=weaviate.auth.AuthApiKey(API_KEY),\n",
    "\theaders={\n",
    "\t\t\"X-OpenAI-Api-Key\": OPENAI_API_KEY,\n",
    "\t\t\"X-Cohere-Api-Key\": COHERE_API_KEY\n",
    "\t},\n",
    "\tadditional_config=AdditionalConfig(\n",
    "\t\ttimeout=Timeout(init=30, query=60, insert=120)\n",
    "\t\t\t)\n",
    ")\n",
    "\n",
    "ready = client.is_ready()\n",
    "server_version = client.get_meta()[\"version\"]\n",
    "client_version = weaviate.__version__\n",
    "\n",
    "live = client.is_live()\n",
    "connected = client.is_connected()\n",
    "\n",
    "print(f\"Weaviate client is ready: {ready}\")\n",
    "print(f\"Weaviate Client Version: {client_version}\")\n",
    "print(f\"Weaviate Server Version: {server_version}\")\n",
    "print(f\"live: {live}\")\n",
    "print(f\"Connected: {connected}\")"
   ]
  },
  {
   "cell_type": "code",
   "execution_count": null,
   "metadata": {},
   "outputs": [],
   "source": [
    "# How to create a collection with two named vectors\n",
    "from weaviate.classes.config import Configure, Property, DataType\n",
    "\n",
    "client.collections.create(\n",
    "    \"twonamedvectors\",\n",
    "    vectorizer_config=[\n",
    "        # Set a named vector\n",
    "        Configure.NamedVectors.text2vec_openai(\n",
    "            name=\"NamedVectorOne\",\n",
    "            source_properties=[\"one\"]       \n",
    "        ),\n",
    "        # Set another named vector\n",
    "        Configure.NamedVectors.text2vec_openai(\n",
    "            name=\"NamedVectorTwo\",\n",
    "            source_properties=[\"two\"]       \n",
    "        )\n",
    "    ],\n",
    "    properties=[  # Define properties\n",
    "        Property(name=\"one\", data_type=DataType.TEXT),\n",
    "        Property(name=\"two\", data_type=DataType.TEXT)\n",
    "    ]\n",
    ")\n"
   ]
  },
  {
   "cell_type": "code",
   "execution_count": null,
   "metadata": {},
   "outputs": [],
   "source": [
    "# How to insert data into the collection with named vectors\n",
    "article = client.collections.get(\"twonamedvectors\")\n",
    "uuid = article.data.insert(\n",
    "    {\n",
    "        \"one\": \"this is for one\",\n",
    "        \"two\": \"this is for two\",\n",
    "    }\n",
    ")"
   ]
  },
  {
   "cell_type": "code",
   "execution_count": null,
   "metadata": {},
   "outputs": [],
   "source": [
    "# Fetch the object with the named vectors\n",
    "collection = client.collections.get(\"<COLLECTION_NAME>\")\n",
    "response = collection.query.fetch_objects()\n",
    "vector_names = [\"<NAMED_VECTOR_PROP>\", \"NAMED_VECTOR_PROP\"]\n",
    "\n",
    "data_object = collection.query.fetch_object_by_id(\n",
    "    uuid=\"<UUID>\", \n",
    "    include_vector=vector_names\n",
    ")\n",
    "\n",
    "print(data_object)\n"
   ]
  },
  {
   "cell_type": "code",
   "execution_count": null,
   "metadata": {},
   "outputs": [],
   "source": [
    "# Querting with named vectors\n",
    "from weaviate.classes.query import MetadataQuery\n",
    "\n",
    "col = client.collections.get(\"<COLLECTION_NAME>\")\n",
    "response = col.query.near_text(\n",
    "    query=\"<QUERY>\",\n",
    "    target_vector=\"NAMED_VECTOR_PROP\",\n",
    "    return_metadata=MetadataQuery(distance=True)\n",
    ")\n",
    "\n",
    "for o in response.objects:\n",
    "    print(o.properties)\n",
    "    print(o.metadata.distance)"
   ]
  }
 ],
 "metadata": {
  "kernelspec": {
   "display_name": ".venv",
   "language": "python",
   "name": "python3"
  },
  "language_info": {
   "codemirror_mode": {
    "name": "ipython",
    "version": 3
   },
   "file_extension": ".py",
   "mimetype": "text/x-python",
   "name": "python",
   "nbconvert_exporter": "python",
   "pygments_lexer": "ipython3",
   "version": "3.13.1"
  }
 },
 "nbformat": 4,
 "nbformat_minor": 2
}
