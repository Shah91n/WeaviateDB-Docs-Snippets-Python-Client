{
 "cells": [
  {
   "cell_type": "code",
   "execution_count": null,
   "metadata": {},
   "outputs": [],
   "source": [
    "# download the weaviate client\n",
    "%pip install -U weaviate-client"
   ]
  },
  {
   "cell_type": "code",
   "execution_count": null,
   "metadata": {},
   "outputs": [
    {
     "name": "stdout",
     "output_type": "stream",
     "text": [
      "Weaviate client is ready: True\n",
      "Weaviate Client Version: 4.10.4\n",
      "Weaviate Server Version: 1.28.3\n"
     ]
    }
   ],
   "source": [
    "import weaviate, os\n",
    "from weaviate.config import AdditionalConfig, Timeout\n",
    "from dotenv import load_dotenv\n",
    "\n",
    "# Load environment variables from .env file\n",
    "load_dotenv()\n",
    "\n",
    "# Retrieve environment variables\n",
    "CLUSTER_URL = os.getenv(\"CLUSTER_URL\")\n",
    "API_KEY = os.getenv(\"API_KEY\")\n",
    "OPENAI_API_KEY = os.getenv(\"OPENAI_API_KEY\")\n",
    "COHERE_API_KEY = os.getenv(\"COHERE_API_KEY\")\n",
    "\n",
    "# Connect to Weaviate\n",
    "client = weaviate.connect_to_wcs(\n",
    "\tcluster_url=CLUSTER_URL,\n",
    "\tauth_credentials=weaviate.auth.AuthApiKey(API_KEY),\n",
    "\theaders={\n",
    "\t\t\"X-OpenAI-Api-Key\": OPENAI_API_KEY,\n",
    "\t\t\"X-Cohere-Api-Key\": COHERE_API_KEY\n",
    "\t},\n",
    "\tadditional_config=AdditionalConfig(\n",
    "\t\ttimeout=Timeout(init=30, query=60, insert=120)\n",
    "\t\t\t)\n",
    ")\n",
    "\n",
    "ready = client.is_ready()\n",
    "server_version = client.get_meta()[\"version\"]\n",
    "client_version = weaviate.__version__\n",
    "\n",
    "live = client.is_live()\n",
    "connected = client.is_connected()\n",
    "\n",
    "print(f\"Weaviate client is ready: {ready}\")\n",
    "print(f\"Weaviate Client Version: {client_version}\")\n",
    "print(f\"Weaviate Server Version: {server_version}\")\n",
    "print(f\"live: {live}\")\n",
    "print(f\"Connected: {connected}\")"
   ]
  },
  {
   "cell_type": "code",
   "execution_count": null,
   "metadata": {},
   "outputs": [],
   "source": [
    "client.graphql_raw_query('''\n",
    "Structure goes here for a print\n",
    "''')\n"
   ]
  }
 ],
 "metadata": {
  "kernelspec": {
   "display_name": ".venv",
   "language": "python",
   "name": "python3"
  },
  "language_info": {
   "codemirror_mode": {
    "name": "ipython",
    "version": 3
   },
   "file_extension": ".py",
   "mimetype": "text/x-python",
   "name": "python",
   "nbconvert_exporter": "python",
   "pygments_lexer": "ipython3",
   "version": "3.13.1"
  }
 },
 "nbformat": 4,
 "nbformat_minor": 2
}
